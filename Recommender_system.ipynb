{
  "nbformat": 4,
  "nbformat_minor": 0,
  "metadata": {
    "colab": {
      "name": "Recommender_system.ipynb",
      "provenance": []
    },
    "kernelspec": {
      "name": "python3",
      "display_name": "Python 3"
    },
    "language_info": {
      "name": "python"
    },
    "accelerator": "GPU"
  },
  "cells": [
    {
      "cell_type": "markdown",
      "metadata": {
        "id": "Urt9wEUs3ufJ"
      },
      "source": [
        "# Recommender System on Hotel's Features Dataset\n"
      ]
    },
    {
      "cell_type": "markdown",
      "metadata": {
        "id": "pTv5qZjY9-KJ"
      },
      "source": [
        "<table align=\"center\">\n",
        "  <td>\n",
        "    <a href=\"https://colab.research.google.com/github/ageron/handson-ml2/blob/master/01_the_machine_learning_landscape.ipynb\" target=\"_parent\"><img src=\"https://colab.research.google.com/assets/colab-badge.svg\" alt=\"Open In Colab\"/></a>\n",
        "  </td>\n",
        "</table>"
      ]
    },
    {
      "cell_type": "markdown",
      "metadata": {
        "id": "4oSIMgEe4j1H"
      },
      "source": [
        "## 1. Importing Libraries, installing Facebook Sent2Vec Model & loading our dataset.\n",
        "### 1.1. Mounting and importing libraries"
      ]
    },
    {
      "cell_type": "code",
      "metadata": {
        "colab": {
          "base_uri": "https://localhost:8080/"
        },
        "id": "JNyxiE1EmPP4",
        "outputId": "38b28d6d-3eec-4827-91f0-74dba853d6cd"
      },
      "source": [
        "from google.colab import drive\n",
        "drive.mount('/content/gdrive')"
      ],
      "execution_count": null,
      "outputs": [
        {
          "output_type": "stream",
          "text": [
            "Mounted at /content/gdrive\n"
          ],
          "name": "stdout"
        }
      ]
    },
    {
      "cell_type": "code",
      "metadata": {
        "id": "3wcnSfgd5Aim"
      },
      "source": [
        "import os\n",
        "import re\n",
        "import numpy as np\n",
        "import pandas as pd\n",
        "import seaborn as sns\n",
        "import matplotlib.pylab as plt\n",
        "from collections import Counter\n",
        "from nltk.corpus import stopwords\n",
        "from sklearn.metrics.pairwise import cosine_similarity"
      ],
      "execution_count": null,
      "outputs": []
    },
    {
      "cell_type": "markdown",
      "metadata": {
        "id": "v3E1nDbc5gyH"
      },
      "source": [
        "### 1.2. Installing **`Sent2Vec`**"
      ]
    },
    {
      "cell_type": "code",
      "metadata": {
        "colab": {
          "base_uri": "https://localhost:8080/"
        },
        "id": "ctIIJRffnFNv",
        "outputId": "aedcd8ac-cec5-46ae-f710-d3976f9ef635"
      },
      "source": [
        "!git clone https://github.com/epfml/sent2vec.git"
      ],
      "execution_count": null,
      "outputs": [
        {
          "output_type": "stream",
          "text": [
            "Cloning into 'sent2vec'...\n",
            "remote: Enumerating objects: 396, done.\u001b[K\n",
            "remote: Counting objects: 100% (3/3), done.\u001b[K\n",
            "remote: Compressing objects: 100% (3/3), done.\u001b[K\n",
            "remote: Total 396 (delta 0), reused 1 (delta 0), pack-reused 393\u001b[K\n",
            "Receiving objects: 100% (396/396), 439.62 KiB | 8.97 MiB/s, done.\n",
            "Resolving deltas: 100% (247/247), done.\n"
          ],
          "name": "stdout"
        }
      ]
    },
    {
      "cell_type": "code",
      "metadata": {
        "id": "5Idh0VAHqbaM"
      },
      "source": [
        "current_path = os.path.abspath(os.getcwd())\n",
        "new_path = os.path.join(current_path, \"sent2vec\")\n",
        "os.chdir(new_path)"
      ],
      "execution_count": null,
      "outputs": []
    },
    {
      "cell_type": "code",
      "metadata": {
        "colab": {
          "base_uri": "https://localhost:8080/"
        },
        "id": "XIeKUi9woVBz",
        "outputId": "ae770b91-6aa8-4682-bd96-3546b285d8a6"
      },
      "source": [
        "!make\n",
        "\n",
        "!pip install --upgrade cython\n",
        "\n",
        "!python setup.py build_ext\n",
        "\n",
        "!pip install ."
      ],
      "execution_count": null,
      "outputs": [
        {
          "output_type": "stream",
          "text": [
            "c++ -pthread -std=c++0x -O3 -funroll-loops -c src/args.cc\n",
            "c++ -pthread -std=c++0x -O3 -funroll-loops -c src/dictionary.cc\n",
            "c++ -pthread -std=c++0x -O3 -funroll-loops -c src/productquantizer.cc\n",
            "c++ -pthread -std=c++0x -O3 -funroll-loops -c src/matrix.cc\n",
            "c++ -pthread -std=c++0x -O3 -funroll-loops -c src/shmem_matrix.cc\n",
            "c++ -pthread -std=c++0x -O3 -funroll-loops -c src/qmatrix.cc\n",
            "c++ -pthread -std=c++0x -O3 -funroll-loops -c src/vector.cc\n",
            "c++ -pthread -std=c++0x -O3 -funroll-loops -c src/model.cc\n",
            "c++ -pthread -std=c++0x -O3 -funroll-loops -c src/utils.cc\n",
            "c++ -pthread -std=c++0x -O3 -funroll-loops -c src/fasttext.cc\n",
            "c++ -pthread -std=c++0x -O3 -funroll-loops args.o dictionary.o productquantizer.o matrix.o shmem_matrix.o qmatrix.o vector.o model.o utils.o fasttext.o src/main.cc -o fasttext -lrt\n",
            "Requirement already up-to-date: cython in /usr/local/lib/python3.7/dist-packages (0.29.23)\n",
            "Compiling src/sent2vec.pyx because it changed.\n",
            "[1/1] Cythonizing src/sent2vec.pyx\n",
            "/usr/local/lib/python3.7/dist-packages/Cython/Compiler/Main.py:369: FutureWarning: Cython directive 'language_level' not set, using 2 for now (Py2). This will change in a later release! File: /content/sent2vec/src/sent2vec.pyx\n",
            "  tree = Parsing.p_module(s, pxd, full_module_name)\n",
            "running build_ext\n",
            "building 'sent2vec' extension\n",
            "creating build\n",
            "creating build/temp.linux-x86_64-3.7\n",
            "creating build/temp.linux-x86_64-3.7/src\n",
            "x86_64-linux-gnu-gcc -pthread -Wno-unused-result -Wsign-compare -DNDEBUG -g -fwrapv -O2 -Wall -g -fdebug-prefix-map=/build/python3.7-OGiuun/python3.7-3.7.10=. -fstack-protector-strong -Wformat -Werror=format-security -g -fdebug-prefix-map=/build/python3.7-OGiuun/python3.7-3.7.10=. -fstack-protector-strong -Wformat -Werror=format-security -Wdate-time -D_FORTIFY_SOURCE=2 -fPIC -Isrc -I/usr/local/lib/python3.7/dist-packages/numpy/core/include -I/usr/include/python3.7m -c src/sent2vec.cpp -o build/temp.linux-x86_64-3.7/src/sent2vec.o -std=c++0x -Wno-cpp -pthread -Wno-sign-compare\n",
            "x86_64-linux-gnu-gcc -pthread -Wno-unused-result -Wsign-compare -DNDEBUG -g -fwrapv -O2 -Wall -g -fdebug-prefix-map=/build/python3.7-OGiuun/python3.7-3.7.10=. -fstack-protector-strong -Wformat -Werror=format-security -g -fdebug-prefix-map=/build/python3.7-OGiuun/python3.7-3.7.10=. -fstack-protector-strong -Wformat -Werror=format-security -Wdate-time -D_FORTIFY_SOURCE=2 -fPIC -Isrc -I/usr/local/lib/python3.7/dist-packages/numpy/core/include -I/usr/include/python3.7m -c src/fasttext.cc -o build/temp.linux-x86_64-3.7/src/fasttext.o -std=c++0x -Wno-cpp -pthread -Wno-sign-compare\n",
            "\u001b[01m\u001b[Ksrc/fasttext.cc:\u001b[m\u001b[K In member function ‘\u001b[01m\u001b[Kvoid fasttext::FastText::findNNSent(const fasttext::Matrix&, const fasttext::Vector&, int32_t, const std::set<std::__cxx11::basic_string<char> >&, int64_t, const std::vector<std::__cxx11::basic_string<char> >&)\u001b[m\u001b[K’:\n",
            "\u001b[01m\u001b[Ksrc/fasttext.cc:781:10:\u001b[m\u001b[K \u001b[01;35m\u001b[Kwarning: \u001b[m\u001b[Kvariable ‘\u001b[01m\u001b[Kit\u001b[m\u001b[K’ set but not used [\u001b[01;35m\u001b[K-Wunused-but-set-variable\u001b[m\u001b[K]\n",
            "     auto \u001b[01;35m\u001b[Kit\u001b[m\u001b[K = banSet.find(heap.top().second);\n",
            "          \u001b[01;35m\u001b[K^~\u001b[m\u001b[K\n",
            "x86_64-linux-gnu-gcc -pthread -Wno-unused-result -Wsign-compare -DNDEBUG -g -fwrapv -O2 -Wall -g -fdebug-prefix-map=/build/python3.7-OGiuun/python3.7-3.7.10=. -fstack-protector-strong -Wformat -Werror=format-security -g -fdebug-prefix-map=/build/python3.7-OGiuun/python3.7-3.7.10=. -fstack-protector-strong -Wformat -Werror=format-security -Wdate-time -D_FORTIFY_SOURCE=2 -fPIC -Isrc -I/usr/local/lib/python3.7/dist-packages/numpy/core/include -I/usr/include/python3.7m -c src/args.cc -o build/temp.linux-x86_64-3.7/src/args.o -std=c++0x -Wno-cpp -pthread -Wno-sign-compare\n",
            "x86_64-linux-gnu-gcc -pthread -Wno-unused-result -Wsign-compare -DNDEBUG -g -fwrapv -O2 -Wall -g -fdebug-prefix-map=/build/python3.7-OGiuun/python3.7-3.7.10=. -fstack-protector-strong -Wformat -Werror=format-security -g -fdebug-prefix-map=/build/python3.7-OGiuun/python3.7-3.7.10=. -fstack-protector-strong -Wformat -Werror=format-security -Wdate-time -D_FORTIFY_SOURCE=2 -fPIC -Isrc -I/usr/local/lib/python3.7/dist-packages/numpy/core/include -I/usr/include/python3.7m -c src/dictionary.cc -o build/temp.linux-x86_64-3.7/src/dictionary.o -std=c++0x -Wno-cpp -pthread -Wno-sign-compare\n",
            "x86_64-linux-gnu-gcc -pthread -Wno-unused-result -Wsign-compare -DNDEBUG -g -fwrapv -O2 -Wall -g -fdebug-prefix-map=/build/python3.7-OGiuun/python3.7-3.7.10=. -fstack-protector-strong -Wformat -Werror=format-security -g -fdebug-prefix-map=/build/python3.7-OGiuun/python3.7-3.7.10=. -fstack-protector-strong -Wformat -Werror=format-security -Wdate-time -D_FORTIFY_SOURCE=2 -fPIC -Isrc -I/usr/local/lib/python3.7/dist-packages/numpy/core/include -I/usr/include/python3.7m -c src/matrix.cc -o build/temp.linux-x86_64-3.7/src/matrix.o -std=c++0x -Wno-cpp -pthread -Wno-sign-compare\n",
            "x86_64-linux-gnu-gcc -pthread -Wno-unused-result -Wsign-compare -DNDEBUG -g -fwrapv -O2 -Wall -g -fdebug-prefix-map=/build/python3.7-OGiuun/python3.7-3.7.10=. -fstack-protector-strong -Wformat -Werror=format-security -g -fdebug-prefix-map=/build/python3.7-OGiuun/python3.7-3.7.10=. -fstack-protector-strong -Wformat -Werror=format-security -Wdate-time -D_FORTIFY_SOURCE=2 -fPIC -Isrc -I/usr/local/lib/python3.7/dist-packages/numpy/core/include -I/usr/include/python3.7m -c src/shmem_matrix.cc -o build/temp.linux-x86_64-3.7/src/shmem_matrix.o -std=c++0x -Wno-cpp -pthread -Wno-sign-compare\n",
            "x86_64-linux-gnu-gcc -pthread -Wno-unused-result -Wsign-compare -DNDEBUG -g -fwrapv -O2 -Wall -g -fdebug-prefix-map=/build/python3.7-OGiuun/python3.7-3.7.10=. -fstack-protector-strong -Wformat -Werror=format-security -g -fdebug-prefix-map=/build/python3.7-OGiuun/python3.7-3.7.10=. -fstack-protector-strong -Wformat -Werror=format-security -Wdate-time -D_FORTIFY_SOURCE=2 -fPIC -Isrc -I/usr/local/lib/python3.7/dist-packages/numpy/core/include -I/usr/include/python3.7m -c src/qmatrix.cc -o build/temp.linux-x86_64-3.7/src/qmatrix.o -std=c++0x -Wno-cpp -pthread -Wno-sign-compare\n",
            "x86_64-linux-gnu-gcc -pthread -Wno-unused-result -Wsign-compare -DNDEBUG -g -fwrapv -O2 -Wall -g -fdebug-prefix-map=/build/python3.7-OGiuun/python3.7-3.7.10=. -fstack-protector-strong -Wformat -Werror=format-security -g -fdebug-prefix-map=/build/python3.7-OGiuun/python3.7-3.7.10=. -fstack-protector-strong -Wformat -Werror=format-security -Wdate-time -D_FORTIFY_SOURCE=2 -fPIC -Isrc -I/usr/local/lib/python3.7/dist-packages/numpy/core/include -I/usr/include/python3.7m -c src/model.cc -o build/temp.linux-x86_64-3.7/src/model.o -std=c++0x -Wno-cpp -pthread -Wno-sign-compare\n",
            "x86_64-linux-gnu-gcc -pthread -Wno-unused-result -Wsign-compare -DNDEBUG -g -fwrapv -O2 -Wall -g -fdebug-prefix-map=/build/python3.7-OGiuun/python3.7-3.7.10=. -fstack-protector-strong -Wformat -Werror=format-security -g -fdebug-prefix-map=/build/python3.7-OGiuun/python3.7-3.7.10=. -fstack-protector-strong -Wformat -Werror=format-security -Wdate-time -D_FORTIFY_SOURCE=2 -fPIC -Isrc -I/usr/local/lib/python3.7/dist-packages/numpy/core/include -I/usr/include/python3.7m -c src/real.cc -o build/temp.linux-x86_64-3.7/src/real.o -std=c++0x -Wno-cpp -pthread -Wno-sign-compare\n",
            "x86_64-linux-gnu-gcc -pthread -Wno-unused-result -Wsign-compare -DNDEBUG -g -fwrapv -O2 -Wall -g -fdebug-prefix-map=/build/python3.7-OGiuun/python3.7-3.7.10=. -fstack-protector-strong -Wformat -Werror=format-security -g -fdebug-prefix-map=/build/python3.7-OGiuun/python3.7-3.7.10=. -fstack-protector-strong -Wformat -Werror=format-security -Wdate-time -D_FORTIFY_SOURCE=2 -fPIC -Isrc -I/usr/local/lib/python3.7/dist-packages/numpy/core/include -I/usr/include/python3.7m -c src/utils.cc -o build/temp.linux-x86_64-3.7/src/utils.o -std=c++0x -Wno-cpp -pthread -Wno-sign-compare\n",
            "x86_64-linux-gnu-gcc -pthread -Wno-unused-result -Wsign-compare -DNDEBUG -g -fwrapv -O2 -Wall -g -fdebug-prefix-map=/build/python3.7-OGiuun/python3.7-3.7.10=. -fstack-protector-strong -Wformat -Werror=format-security -g -fdebug-prefix-map=/build/python3.7-OGiuun/python3.7-3.7.10=. -fstack-protector-strong -Wformat -Werror=format-security -Wdate-time -D_FORTIFY_SOURCE=2 -fPIC -Isrc -I/usr/local/lib/python3.7/dist-packages/numpy/core/include -I/usr/include/python3.7m -c src/vector.cc -o build/temp.linux-x86_64-3.7/src/vector.o -std=c++0x -Wno-cpp -pthread -Wno-sign-compare\n",
            "x86_64-linux-gnu-gcc -pthread -Wno-unused-result -Wsign-compare -DNDEBUG -g -fwrapv -O2 -Wall -g -fdebug-prefix-map=/build/python3.7-OGiuun/python3.7-3.7.10=. -fstack-protector-strong -Wformat -Werror=format-security -g -fdebug-prefix-map=/build/python3.7-OGiuun/python3.7-3.7.10=. -fstack-protector-strong -Wformat -Werror=format-security -Wdate-time -D_FORTIFY_SOURCE=2 -fPIC -Isrc -I/usr/local/lib/python3.7/dist-packages/numpy/core/include -I/usr/include/python3.7m -c src/real.cc -o build/temp.linux-x86_64-3.7/src/real.o -std=c++0x -Wno-cpp -pthread -Wno-sign-compare\n",
            "x86_64-linux-gnu-gcc -pthread -Wno-unused-result -Wsign-compare -DNDEBUG -g -fwrapv -O2 -Wall -g -fdebug-prefix-map=/build/python3.7-OGiuun/python3.7-3.7.10=. -fstack-protector-strong -Wformat -Werror=format-security -g -fdebug-prefix-map=/build/python3.7-OGiuun/python3.7-3.7.10=. -fstack-protector-strong -Wformat -Werror=format-security -Wdate-time -D_FORTIFY_SOURCE=2 -fPIC -Isrc -I/usr/local/lib/python3.7/dist-packages/numpy/core/include -I/usr/include/python3.7m -c src/productquantizer.cc -o build/temp.linux-x86_64-3.7/src/productquantizer.o -std=c++0x -Wno-cpp -pthread -Wno-sign-compare\n",
            "creating build/lib.linux-x86_64-3.7\n",
            "x86_64-linux-gnu-g++ -pthread -shared -Wl,-O1 -Wl,-Bsymbolic-functions -Wl,-Bsymbolic-functions -Wl,-z,relro -Wl,-Bsymbolic-functions -Wl,-z,relro -g -fdebug-prefix-map=/build/python3.7-OGiuun/python3.7-3.7.10=. -fstack-protector-strong -Wformat -Werror=format-security -Wdate-time -D_FORTIFY_SOURCE=2 build/temp.linux-x86_64-3.7/src/sent2vec.o build/temp.linux-x86_64-3.7/src/fasttext.o build/temp.linux-x86_64-3.7/src/args.o build/temp.linux-x86_64-3.7/src/dictionary.o build/temp.linux-x86_64-3.7/src/matrix.o build/temp.linux-x86_64-3.7/src/shmem_matrix.o build/temp.linux-x86_64-3.7/src/qmatrix.o build/temp.linux-x86_64-3.7/src/model.o build/temp.linux-x86_64-3.7/src/real.o build/temp.linux-x86_64-3.7/src/utils.o build/temp.linux-x86_64-3.7/src/vector.o build/temp.linux-x86_64-3.7/src/real.o build/temp.linux-x86_64-3.7/src/productquantizer.o -lrt -o build/lib.linux-x86_64-3.7/sent2vec.cpython-37m-x86_64-linux-gnu.so\n",
            "Processing /content/sent2vec\n",
            "Building wheels for collected packages: sent2vec\n",
            "  Building wheel for sent2vec (setup.py) ... \u001b[?25l\u001b[?25hdone\n",
            "  Created wheel for sent2vec: filename=sent2vec-0.0.0-cp37-cp37m-linux_x86_64.whl size=1130642 sha256=53111d056821df38dc30b89aebd2adbdcf2c34ea4fc670d5eed5d361951d7bc2\n",
            "  Stored in directory: /tmp/pip-ephem-wheel-cache-ue0jdwn7/wheels/b1/65/d7/f2c679e0086741bea69f0c4478303b6506bbf4c78dea82f565\n",
            "Successfully built sent2vec\n",
            "Installing collected packages: sent2vec\n",
            "Successfully installed sent2vec-0.0.0\n"
          ],
          "name": "stdout"
        }
      ]
    },
    {
      "cell_type": "markdown",
      "metadata": {
        "id": "Go-6ZT8N5oZV"
      },
      "source": [
        "### 1.3. reading **Hotel's Features Dataset** and do some preprocessing on it"
      ]
    },
    {
      "cell_type": "code",
      "metadata": {
        "id": "3xgg85Wqu7ff"
      },
      "source": [
        "df = pd.read_csv('/content/gdrive/MyDrive/hotel_features_dataset.csv')\n",
        "df = df.loc[:, ~df.columns.str.contains('^Unnamed')]"
      ],
      "execution_count": null,
      "outputs": []
    },
    {
      "cell_type": "code",
      "metadata": {
        "colab": {
          "base_uri": "https://localhost:8080/",
          "height": 295
        },
        "id": "6nHjgGiFvZ0k",
        "outputId": "a87b56e6-0805-4a60-ba18-82a12f24a7af"
      },
      "source": [
        "df.head(3)"
      ],
      "execution_count": null,
      "outputs": [
        {
          "output_type": "execute_result",
          "data": {
            "text/html": [
              "<div>\n",
              "<style scoped>\n",
              "    .dataframe tbody tr th:only-of-type {\n",
              "        vertical-align: middle;\n",
              "    }\n",
              "\n",
              "    .dataframe tbody tr th {\n",
              "        vertical-align: top;\n",
              "    }\n",
              "\n",
              "    .dataframe thead th {\n",
              "        text-align: right;\n",
              "    }\n",
              "</style>\n",
              "<table border=\"1\" class=\"dataframe\">\n",
              "  <thead>\n",
              "    <tr style=\"text-align: right;\">\n",
              "      <th></th>\n",
              "      <th>name</th>\n",
              "      <th>country</th>\n",
              "      <th>street</th>\n",
              "      <th>region</th>\n",
              "      <th>rating</th>\n",
              "      <th>reviews</th>\n",
              "      <th>amenities</th>\n",
              "      <th>rooms</th>\n",
              "      <th>types</th>\n",
              "      <th>price</th>\n",
              "      <th>official_description</th>\n",
              "    </tr>\n",
              "  </thead>\n",
              "  <tbody>\n",
              "    <tr>\n",
              "      <th>0</th>\n",
              "      <td>WH Hotel</td>\n",
              "      <td>Lebanon</td>\n",
              "      <td>Lyon Street Hamra Emille Edde</td>\n",
              "      <td>NaN</td>\n",
              "      <td>4.0</td>\n",
              "      <td>{'Excellent': 104, 'Good': 102, 'Average': 51,...</td>\n",
              "      <td>Free High Speed Internet (WiFi),Free breakfast...</td>\n",
              "      <td>Air conditioning,Fireplace,Housekeeping,Room s...</td>\n",
              "      <td>Non-smoking rooms,Suites,Family rooms,Smoking ...</td>\n",
              "      <td>NaN</td>\n",
              "      <td>NaN</td>\n",
              "    </tr>\n",
              "    <tr>\n",
              "      <th>1</th>\n",
              "      <td>Le Patio Boutique Hotel</td>\n",
              "      <td>Lebanon</td>\n",
              "      <td>1144 Marfaa, Uruguay Street Solidere</td>\n",
              "      <td>NaN</td>\n",
              "      <td>4.5</td>\n",
              "      <td>{'Excellent': 213, 'Good': 78, 'Average': 31, ...</td>\n",
              "      <td>Paid private parking nearby,Free High Speed In...</td>\n",
              "      <td>Air conditioning,Housekeeping,Room service,Saf...</td>\n",
              "      <td>Non-smoking rooms,Suites,Family rooms,Smoking ...</td>\n",
              "      <td>121.0</td>\n",
              "      <td>NaN</td>\n",
              "    </tr>\n",
              "    <tr>\n",
              "      <th>2</th>\n",
              "      <td>Riviera Hotel Beirut</td>\n",
              "      <td>Lebanon</td>\n",
              "      <td>Avenue De Paris, Corniche El Manara Riad El Solh</td>\n",
              "      <td>NaN</td>\n",
              "      <td>3.5</td>\n",
              "      <td>{'Excellent': 90, 'Good': 101, 'Average': 69, ...</td>\n",
              "      <td>Valet parking,Free High Speed Internet (WiFi),...</td>\n",
              "      <td>Air conditioning,Private balcony,Room service,...</td>\n",
              "      <td>Ocean view,Pool view,Non-smoking rooms,Suites,...</td>\n",
              "      <td>NaN</td>\n",
              "      <td>NaN</td>\n",
              "    </tr>\n",
              "  </tbody>\n",
              "</table>\n",
              "</div>"
            ],
            "text/plain": [
              "                      name  country  ...  price official_description\n",
              "0                 WH Hotel  Lebanon  ...    NaN                  NaN\n",
              "1  Le Patio Boutique Hotel  Lebanon  ...  121.0                  NaN\n",
              "2     Riviera Hotel Beirut  Lebanon  ...    NaN                  NaN\n",
              "\n",
              "[3 rows x 11 columns]"
            ]
          },
          "metadata": {
            "tags": []
          },
          "execution_count": 3
        }
      ]
    },
    {
      "cell_type": "code",
      "metadata": {
        "id": "XzmPRN31vul4"
      },
      "source": [
        "wanted_columns = ['name', 'country', 'rating', 'amenities', 'rooms', 'types']\n",
        "df = df[wanted_columns]"
      ],
      "execution_count": null,
      "outputs": []
    },
    {
      "cell_type": "code",
      "metadata": {
        "id": "x2Nm3sGFvv9B"
      },
      "source": [
        "df = df.dropna()"
      ],
      "execution_count": null,
      "outputs": []
    },
    {
      "cell_type": "code",
      "metadata": {
        "colab": {
          "base_uri": "https://localhost:8080/"
        },
        "id": "4gB4dP3Evzxw",
        "outputId": "217e9b67-2073-4837-8179-e87f7c3788ac"
      },
      "source": [
        "len(df.index)"
      ],
      "execution_count": null,
      "outputs": [
        {
          "output_type": "execute_result",
          "data": {
            "text/plain": [
              "62617"
            ]
          },
          "metadata": {
            "tags": []
          },
          "execution_count": 6
        }
      ]
    },
    {
      "cell_type": "code",
      "metadata": {
        "id": "7oOrGBeyv1cI"
      },
      "source": [
        "features = df['amenities'] + ',' +df['rooms']+ ',' +df['types']"
      ],
      "execution_count": null,
      "outputs": []
    },
    {
      "cell_type": "code",
      "metadata": {
        "id": "So5EnI1mwVuy"
      },
      "source": [
        "def preprocess_text(sen):\n",
        "    sentence = re.compile(r'<[^>]+>').sub('', sen)\n",
        "    sentence = re.sub('[^a-zA-Z]', ' ', sentence)\n",
        "    sentence = re.sub(r\"\\s+[a-zA-Z]\\s+\", ' ', sentence)\n",
        "    sentence = re.sub(r'\\s+', ' ', sentence)\n",
        "    return sentence"
      ],
      "execution_count": null,
      "outputs": []
    },
    {
      "cell_type": "code",
      "metadata": {
        "id": "ozKKIdALwYgO"
      },
      "source": [
        "cleaned_features = []\n",
        "for feature in features:\n",
        "  cleaned_features.append(preprocess_text(feature).lower())"
      ],
      "execution_count": null,
      "outputs": []
    },
    {
      "cell_type": "markdown",
      "metadata": {
        "id": "nHEg_VmM6n32"
      },
      "source": [
        "## 2. Building the recommended\n",
        "### 2.1. Use Sent2vec model to convert our features to embeddings."
      ]
    },
    {
      "cell_type": "code",
      "metadata": {
        "id": "zET1jjP8wysg"
      },
      "source": [
        "import sent2vec\n",
        "model = sent2vec.Sent2vecModel()\n",
        "model.load_model('/content/gdrive/MyDrive/wiki_unigrams.bin', inference_mode = True)"
      ],
      "execution_count": null,
      "outputs": []
    },
    {
      "cell_type": "code",
      "metadata": {
        "id": "VjZAJwJ4xUvh"
      },
      "source": [
        "# emb = model.embed_sentence(\"once upon a time .\") \n",
        "embs = model.embed_sentences(cleaned_features)"
      ],
      "execution_count": null,
      "outputs": []
    },
    {
      "cell_type": "code",
      "metadata": {
        "colab": {
          "base_uri": "https://localhost:8080/"
        },
        "id": "ZSOiFMcJxXCt",
        "outputId": "2fe57239-e207-4f5e-d127-9af293d74b5b"
      },
      "source": [
        "embs.shape"
      ],
      "execution_count": null,
      "outputs": [
        {
          "output_type": "execute_result",
          "data": {
            "text/plain": [
              "(62617, 600)"
            ]
          },
          "metadata": {
            "tags": []
          },
          "execution_count": 12
        }
      ]
    },
    {
      "cell_type": "code",
      "metadata": {
        "id": "ve-qN_E309ub"
      },
      "source": [
        "features_df = pd.DataFrame({'name': df.name, 'features': cleaned_features})"
      ],
      "execution_count": null,
      "outputs": []
    },
    {
      "cell_type": "code",
      "metadata": {
        "colab": {
          "base_uri": "https://localhost:8080/",
          "height": 204
        },
        "id": "N2WxfMBp1Wg0",
        "outputId": "5a777336-4c7b-4bc3-c6f9-3025f5c91994"
      },
      "source": [
        "features_df.head()"
      ],
      "execution_count": null,
      "outputs": [
        {
          "output_type": "execute_result",
          "data": {
            "text/html": [
              "<div>\n",
              "<style scoped>\n",
              "    .dataframe tbody tr th:only-of-type {\n",
              "        vertical-align: middle;\n",
              "    }\n",
              "\n",
              "    .dataframe tbody tr th {\n",
              "        vertical-align: top;\n",
              "    }\n",
              "\n",
              "    .dataframe thead th {\n",
              "        text-align: right;\n",
              "    }\n",
              "</style>\n",
              "<table border=\"1\" class=\"dataframe\">\n",
              "  <thead>\n",
              "    <tr style=\"text-align: right;\">\n",
              "      <th></th>\n",
              "      <th>name</th>\n",
              "      <th>features</th>\n",
              "    </tr>\n",
              "  </thead>\n",
              "  <tbody>\n",
              "    <tr>\n",
              "      <th>0</th>\n",
              "      <td>WH Hotel</td>\n",
              "      <td>free high speed internet wifi free breakfast a...</td>\n",
              "    </tr>\n",
              "    <tr>\n",
              "      <th>1</th>\n",
              "      <td>Le Patio Boutique Hotel</td>\n",
              "      <td>paid private parking nearby free high speed in...</td>\n",
              "    </tr>\n",
              "    <tr>\n",
              "      <th>2</th>\n",
              "      <td>Riviera Hotel Beirut</td>\n",
              "      <td>valet parking free high speed internet wifi po...</td>\n",
              "    </tr>\n",
              "    <tr>\n",
              "      <th>3</th>\n",
              "      <td>Le Bristol Beyrouth</td>\n",
              "      <td>free high speed internet wifi pool fitness cen...</td>\n",
              "    </tr>\n",
              "    <tr>\n",
              "      <th>4</th>\n",
              "      <td>Golden Tulip Midtown Hotel And Suites</td>\n",
              "      <td>free parking free high speed internet wifi poo...</td>\n",
              "    </tr>\n",
              "  </tbody>\n",
              "</table>\n",
              "</div>"
            ],
            "text/plain": [
              "                                    name                                           features\n",
              "0                               WH Hotel  free high speed internet wifi free breakfast a...\n",
              "1                Le Patio Boutique Hotel  paid private parking nearby free high speed in...\n",
              "2                   Riviera Hotel Beirut  valet parking free high speed internet wifi po...\n",
              "3                    Le Bristol Beyrouth  free high speed internet wifi pool fitness cen...\n",
              "4  Golden Tulip Midtown Hotel And Suites  free parking free high speed internet wifi poo..."
            ]
          },
          "metadata": {
            "tags": []
          },
          "execution_count": 14
        }
      ]
    },
    {
      "cell_type": "markdown",
      "metadata": {
        "id": "dPklQEU87FfS"
      },
      "source": [
        "### 2.2. Calculate the similarities between hotels using Cosine Similarly."
      ]
    },
    {
      "cell_type": "code",
      "metadata": {
        "id": "0xtqMpv_1Xpu"
      },
      "source": [
        "def most_similar(idx, similarity_matrix, count):\n",
        "    print (f'Similar Hotels to {features_df.iloc[idx][\"name\"]}:')\n",
        "    similar_ix=np.argsort(similarity_matrix[idx])[::-1]\n",
        "    for ix in similar_ix[:count+1]:\n",
        "        if ix != idx:\n",
        "            print (f'Hotel Name : {features_df.iloc[ix][\"name\"]} Similarity: {similarity_matrix[idx][ix]}')"
      ],
      "execution_count": null,
      "outputs": []
    },
    {
      "cell_type": "code",
      "metadata": {
        "id": "aqbhHxMQ1ntv"
      },
      "source": [
        "pairwise_similarities =cosine_similarity(embs[:40000])"
      ],
      "execution_count": null,
      "outputs": []
    },
    {
      "cell_type": "code",
      "metadata": {
        "colab": {
          "base_uri": "https://localhost:8080/"
        },
        "id": "Z94dbqkn15av",
        "outputId": "0fbef267-33e4-416f-fb7a-67456b659845"
      },
      "source": [
        "most_similar(5, pairwise_similarities, 6)"
      ],
      "execution_count": null,
      "outputs": [
        {
          "output_type": "stream",
          "text": [
            "Similar Hotels to The Mayflower Hotel:\n",
            "Hotel Name : Catina Hotel Similarity: 0.9822630882263184\n",
            "Hotel Name : Erboy Hotel Similarity: 0.9741029739379883\n",
            "Hotel Name : Treebo Trend Singh Sons Similarity: 0.9699388742446899\n",
            "Hotel Name : Villa Hue Similarity: 0.9699212312698364\n",
            "Hotel Name : Hotel Le Carnot Similarity: 0.9684607982635498\n",
            "Hotel Name : Hotel Sagar Plaza Similarity: 0.9671428203582764\n"
          ],
          "name": "stdout"
        }
      ]
    },
    {
      "cell_type": "code",
      "metadata": {
        "id": "xLEHcrMs8cJd"
      },
      "source": [
        ""
      ],
      "execution_count": null,
      "outputs": []
    }
  ]
}