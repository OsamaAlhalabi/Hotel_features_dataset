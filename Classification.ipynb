{
  "nbformat": 4,
  "nbformat_minor": 0,
  "metadata": {
    "colab": {
      "name": "Classification.ipynb",
      "provenance": [],
      "collapsed_sections": []
    },
    "kernelspec": {
      "name": "python3",
      "display_name": "Python 3"
    },
    "language_info": {
      "name": "python"
    }
  },
  "cells": [
    {
      "cell_type": "code",
      "metadata": {
        "colab": {
          "base_uri": "https://localhost:8080/"
        },
        "id": "hPUTfoH6R8U2",
        "outputId": "330f2714-0bf0-43a5-f030-e9b1326a9280"
      },
      "source": [
        "from google.colab import drive\n",
        "drive.mount('/content/gdrive')"
      ],
      "execution_count": 1,
      "outputs": [
        {
          "output_type": "stream",
          "text": [
            "Drive already mounted at /content/gdrive; to attempt to forcibly remount, call drive.mount(\"/content/gdrive\", force_remount=True).\n"
          ],
          "name": "stdout"
        }
      ]
    },
    {
      "cell_type": "code",
      "metadata": {
        "id": "YTh_Jw56ugx8"
      },
      "source": [
        "import warnings\n",
        "warnings.filterwarnings('ignore')\n",
        "warnings.filterwarnings(action='ignore',category=DeprecationWarning)\n",
        "warnings.filterwarnings(action='ignore',category=FutureWarning)"
      ],
      "execution_count": 5,
      "outputs": []
    },
    {
      "cell_type": "code",
      "metadata": {
        "id": "Fww5WF08SFd1"
      },
      "source": [
        "import numpy as np\n",
        "import pandas as pd\n",
        "import seaborn as sns\n",
        "import matplotlib.pylab as plt\n",
        "from sklearn.metrics import confusion_matrix\n",
        "import json\n",
        "\n",
        "from sklearn.feature_selection import SelectPercentile, VarianceThreshold, SelectFromModel, RFE\n",
        "from sklearn.ensemble import RandomForestClassifier\n",
        "from sklearn.model_selection import train_test_split \n",
        "from sklearn.metrics import classification_report\n",
        "from sklearn.model_selection import GridSearchCV\n",
        "from sklearn.svm import SVC"
      ],
      "execution_count": 6,
      "outputs": []
    },
    {
      "cell_type": "markdown",
      "metadata": {
        "id": "sqi9iW0ePxh3"
      },
      "source": [
        "# 1. Preprocessing\n",
        "## 1.1. read the hotel features dataset and add the binary labels"
      ]
    },
    {
      "cell_type": "code",
      "metadata": {
        "id": "snUXYs8uSGrn"
      },
      "source": [
        "df = pd.read_csv('/content/gdrive/MyDrive/hotel_features_dataset.csv')\n",
        "df = df.loc[:, ~df.columns.str.contains('^Unnamed')]"
      ],
      "execution_count": 42,
      "outputs": []
    },
    {
      "cell_type": "code",
      "metadata": {
        "colab": {
          "base_uri": "https://localhost:8080/",
          "height": 285
        },
        "id": "gLuC-S40SIz3",
        "outputId": "b762488d-2e1c-47b5-ca32-c56d55bd5977"
      },
      "source": [
        "df.head()"
      ],
      "execution_count": 43,
      "outputs": [
        {
          "output_type": "execute_result",
          "data": {
            "text/html": [
              "<div>\n",
              "<style scoped>\n",
              "    .dataframe tbody tr th:only-of-type {\n",
              "        vertical-align: middle;\n",
              "    }\n",
              "\n",
              "    .dataframe tbody tr th {\n",
              "        vertical-align: top;\n",
              "    }\n",
              "\n",
              "    .dataframe thead th {\n",
              "        text-align: right;\n",
              "    }\n",
              "</style>\n",
              "<table border=\"1\" class=\"dataframe\">\n",
              "  <thead>\n",
              "    <tr style=\"text-align: right;\">\n",
              "      <th></th>\n",
              "      <th>name</th>\n",
              "      <th>country</th>\n",
              "      <th>street</th>\n",
              "      <th>region</th>\n",
              "      <th>rating</th>\n",
              "      <th>reviews</th>\n",
              "      <th>amenities</th>\n",
              "      <th>rooms</th>\n",
              "      <th>types</th>\n",
              "      <th>price</th>\n",
              "      <th>official_description</th>\n",
              "    </tr>\n",
              "  </thead>\n",
              "  <tbody>\n",
              "    <tr>\n",
              "      <th>0</th>\n",
              "      <td>WH Hotel</td>\n",
              "      <td>Lebanon</td>\n",
              "      <td>Lyon Street Hamra Emille Edde</td>\n",
              "      <td>NaN</td>\n",
              "      <td>4.0</td>\n",
              "      <td>{'Excellent': 104, 'Good': 102, 'Average': 51,...</td>\n",
              "      <td>Free High Speed Internet (WiFi),Free breakfast...</td>\n",
              "      <td>Air conditioning,Fireplace,Housekeeping,Room s...</td>\n",
              "      <td>Non-smoking rooms,Suites,Family rooms,Smoking ...</td>\n",
              "      <td>NaN</td>\n",
              "      <td>NaN</td>\n",
              "    </tr>\n",
              "    <tr>\n",
              "      <th>1</th>\n",
              "      <td>Le Patio Boutique Hotel</td>\n",
              "      <td>Lebanon</td>\n",
              "      <td>1144 Marfaa, Uruguay Street Solidere</td>\n",
              "      <td>NaN</td>\n",
              "      <td>4.5</td>\n",
              "      <td>{'Excellent': 213, 'Good': 78, 'Average': 31, ...</td>\n",
              "      <td>Paid private parking nearby,Free High Speed In...</td>\n",
              "      <td>Air conditioning,Housekeeping,Room service,Saf...</td>\n",
              "      <td>Non-smoking rooms,Suites,Family rooms,Smoking ...</td>\n",
              "      <td>121.0</td>\n",
              "      <td>NaN</td>\n",
              "    </tr>\n",
              "    <tr>\n",
              "      <th>2</th>\n",
              "      <td>Riviera Hotel Beirut</td>\n",
              "      <td>Lebanon</td>\n",
              "      <td>Avenue De Paris, Corniche El Manara Riad El Solh</td>\n",
              "      <td>NaN</td>\n",
              "      <td>3.5</td>\n",
              "      <td>{'Excellent': 90, 'Good': 101, 'Average': 69, ...</td>\n",
              "      <td>Valet parking,Free High Speed Internet (WiFi),...</td>\n",
              "      <td>Air conditioning,Private balcony,Room service,...</td>\n",
              "      <td>Ocean view,Pool view,Non-smoking rooms,Suites,...</td>\n",
              "      <td>NaN</td>\n",
              "      <td>NaN</td>\n",
              "    </tr>\n",
              "    <tr>\n",
              "      <th>3</th>\n",
              "      <td>Le Bristol Beyrouth</td>\n",
              "      <td>Lebanon</td>\n",
              "      <td>Mme Curie Street Verdun</td>\n",
              "      <td>NaN</td>\n",
              "      <td>4.5</td>\n",
              "      <td>{'Excellent': 219, 'Good': 79, 'Average': 25, ...</td>\n",
              "      <td>Free High Speed Internet (WiFi),Pool,Fitness C...</td>\n",
              "      <td>Air conditioning,Room service,Safe,VIP room fa...</td>\n",
              "      <td>Non-smoking rooms,Suites,Family rooms,Smoking ...</td>\n",
              "      <td>NaN</td>\n",
              "      <td>NaN</td>\n",
              "    </tr>\n",
              "    <tr>\n",
              "      <th>4</th>\n",
              "      <td>Golden Tulip Midtown Hotel And Suites</td>\n",
              "      <td>Lebanon</td>\n",
              "      <td>Building Number 483, Sidani / Souraty Street M...</td>\n",
              "      <td>NaN</td>\n",
              "      <td>4.0</td>\n",
              "      <td>{'Excellent': 147, 'Good': 86, 'Average': 32, ...</td>\n",
              "      <td>Free parking,Free High Speed Internet (WiFi),P...</td>\n",
              "      <td>Air conditioning,Room service,Safe,Kitchenette...</td>\n",
              "      <td>Non-smoking rooms,Suites,Family rooms,Smoking ...</td>\n",
              "      <td>NaN</td>\n",
              "      <td>NaN</td>\n",
              "    </tr>\n",
              "  </tbody>\n",
              "</table>\n",
              "</div>"
            ],
            "text/plain": [
              "                                    name  country  ...  price official_description\n",
              "0                               WH Hotel  Lebanon  ...    NaN                  NaN\n",
              "1                Le Patio Boutique Hotel  Lebanon  ...  121.0                  NaN\n",
              "2                   Riviera Hotel Beirut  Lebanon  ...    NaN                  NaN\n",
              "3                    Le Bristol Beyrouth  Lebanon  ...    NaN                  NaN\n",
              "4  Golden Tulip Midtown Hotel And Suites  Lebanon  ...    NaN                  NaN\n",
              "\n",
              "[5 rows x 11 columns]"
            ]
          },
          "metadata": {
            "tags": []
          },
          "execution_count": 43
        }
      ]
    },
    {
      "cell_type": "code",
      "metadata": {
        "id": "TTLnm2MZSYXa",
        "colab": {
          "base_uri": "https://localhost:8080/"
        },
        "outputId": "f6773757-a19d-43e1-9153-3daf3705d00a"
      },
      "source": [
        "wanted_columns = ['name', 'amenities', 'rooms','types','reviews']\n",
        "df = df[wanted_columns]\n",
        "df = df.dropna()\n",
        "df.info()"
      ],
      "execution_count": 51,
      "outputs": [
        {
          "output_type": "stream",
          "text": [
            "<class 'pandas.core.frame.DataFrame'>\n",
            "Int64Index: 62719 entries, 0 to 73073\n",
            "Data columns (total 6 columns):\n",
            " #   Column     Non-Null Count  Dtype  \n",
            "---  ------     --------------  -----  \n",
            " 0   name       62719 non-null  object \n",
            " 1   amenities  62719 non-null  object \n",
            " 2   rooms      62719 non-null  object \n",
            " 3   rating     62719 non-null  float64\n",
            " 4   types      62719 non-null  object \n",
            " 5   reviews    62719 non-null  object \n",
            "dtypes: float64(1), object(5)\n",
            "memory usage: 3.3+ MB\n"
          ],
          "name": "stdout"
        }
      ]
    },
    {
      "cell_type": "code",
      "metadata": {
        "id": "1ej4YArftQ_1"
      },
      "source": [
        "features = df['amenities'] + ',' +df['rooms']+ ',' +df['types']"
      ],
      "execution_count": 10,
      "outputs": []
    },
    {
      "cell_type": "code",
      "metadata": {
        "colab": {
          "base_uri": "https://localhost:8080/",
          "height": 238
        },
        "id": "4xVhtOjBtTYD",
        "outputId": "b1f126d4-efaf-44c9-e763-d45230b77ab5"
      },
      "source": [
        "features_df = pd.DataFrame({'name': df.name, 'features': features})\n",
        "oh_df = features_df['features'].str.get_dummies(sep=',') #one hot encoded dataframe\n",
        "oh_df.head(3)"
      ],
      "execution_count": 11,
      "outputs": [
        {
          "output_type": "execute_result",
          "data": {
            "text/html": [
              "<div>\n",
              "<style scoped>\n",
              "    .dataframe tbody tr th:only-of-type {\n",
              "        vertical-align: middle;\n",
              "    }\n",
              "\n",
              "    .dataframe tbody tr th {\n",
              "        vertical-align: top;\n",
              "    }\n",
              "\n",
              "    .dataframe thead th {\n",
              "        text-align: right;\n",
              "    }\n",
              "</style>\n",
              "<table border=\"1\" class=\"dataframe\">\n",
              "  <thead>\n",
              "    <tr style=\"text-align: right;\">\n",
              "      <th></th>\n",
              "      <th>DVDs</th>\n",
              "      <th>music for children</th>\n",
              "      <th>24-hour check-in</th>\n",
              "      <th>24-hour front desk</th>\n",
              "      <th>24-hour security</th>\n",
              "      <th>ATM on site</th>\n",
              "      <th>Additional bathroom</th>\n",
              "      <th>Adult pool</th>\n",
              "      <th>Adults only</th>\n",
              "      <th>Aerobics</th>\n",
              "      <th>Aerobics offsite</th>\n",
              "      <th>Air conditioning</th>\n",
              "      <th>Air purifier</th>\n",
              "      <th>Airport transportation</th>\n",
              "      <th>Allergy-free room</th>\n",
              "      <th>Archery</th>\n",
              "      <th>Archery offsite</th>\n",
              "      <th>BBQ facilities</th>\n",
              "      <th>Babysitting</th>\n",
              "      <th>Badminton</th>\n",
              "      <th>Baggage storage</th>\n",
              "      <th>Banquet room</th>\n",
              "      <th>Bar / lounge</th>\n",
              "      <th>Bath / shower</th>\n",
              "      <th>Bathrobes</th>\n",
              "      <th>Beach</th>\n",
              "      <th>Bicycle rental</th>\n",
              "      <th>Bicycle tours</th>\n",
              "      <th>Bicycles available</th>\n",
              "      <th>Bidet</th>\n",
              "      <th>Billiards</th>\n",
              "      <th>Blackout curtains</th>\n",
              "      <th>Board games / puzzles</th>\n",
              "      <th>Boating</th>\n",
              "      <th>Body wrap</th>\n",
              "      <th>Books</th>\n",
              "      <th>Bottled water</th>\n",
              "      <th>Bowling</th>\n",
              "      <th>Bowling offsite</th>\n",
              "      <th>Breakfast available</th>\n",
              "      <th>...</th>\n",
              "      <th>hotel_amenity_smoking_rooms_available</th>\n",
              "      <th>hotel_amenity_snack_bar</th>\n",
              "      <th>hotel_amenity_snorkeling</th>\n",
              "      <th>hotel_amenity_sofa</th>\n",
              "      <th>hotel_amenity_solarium</th>\n",
              "      <th>hotel_amenity_soundproof_rooms</th>\n",
              "      <th>hotel_amenity_spa</th>\n",
              "      <th>hotel_amenity_special_diet_menus</th>\n",
              "      <th>hotel_amenity_steam_room</th>\n",
              "      <th>hotel_amenity_suites</th>\n",
              "      <th>hotel_amenity_sun_deck</th>\n",
              "      <th>hotel_amenity_sun_loungers_beach_chairs</th>\n",
              "      <th>hotel_amenity_sun_terrace</th>\n",
              "      <th>hotel_amenity_sun_umbrellas</th>\n",
              "      <th>hotel_amenity_swimming_pool_toys</th>\n",
              "      <th>hotel_amenity_swimup_bar</th>\n",
              "      <th>hotel_amenity_table_tennis</th>\n",
              "      <th>hotel_amenity_taxi_service</th>\n",
              "      <th>hotel_amenity_telephone</th>\n",
              "      <th>hotel_amenity_tennis_court</th>\n",
              "      <th>hotel_amenity_tile_marble_floor</th>\n",
              "      <th>hotel_amenity_umbrella</th>\n",
              "      <th>hotel_amenity_vending_machine</th>\n",
              "      <th>hotel_amenity_vip_room_facilities</th>\n",
              "      <th>hotel_amenity_wake_up_service_alarm_clock</th>\n",
              "      <th>hotel_amenity_walk_in_shower</th>\n",
              "      <th>hotel_amenity_walking_tours</th>\n",
              "      <th>hotel_amenity_wardrobe_closet</th>\n",
              "      <th>hotel_amenity_water_park_offsite</th>\n",
              "      <th>hotel_amenity_water_sport_equipment_rentals</th>\n",
              "      <th>hotel_amenity_waxing_services</th>\n",
              "      <th>hotel_amenity_whirlpool_bathtub</th>\n",
              "      <th>hotel_amenity_wifi</th>\n",
              "      <th>hotel_amenity_windsurfing</th>\n",
              "      <th>hotel_amenity_wine_champagne</th>\n",
              "      <th>hotel_amenity_yoga_classes</th>\n",
              "      <th>hotel_amenity_yoga_room</th>\n",
              "      <th>iPod docking station</th>\n",
              "      <th>tags_category_tag_free_airport_transportation_1</th>\n",
              "      <th>tags_category_tag_non_smoking_rooms_1</th>\n",
              "    </tr>\n",
              "  </thead>\n",
              "  <tbody>\n",
              "    <tr>\n",
              "      <th>0</th>\n",
              "      <td>0</td>\n",
              "      <td>0</td>\n",
              "      <td>0</td>\n",
              "      <td>0</td>\n",
              "      <td>0</td>\n",
              "      <td>0</td>\n",
              "      <td>0</td>\n",
              "      <td>0</td>\n",
              "      <td>0</td>\n",
              "      <td>0</td>\n",
              "      <td>0</td>\n",
              "      <td>1</td>\n",
              "      <td>0</td>\n",
              "      <td>1</td>\n",
              "      <td>0</td>\n",
              "      <td>0</td>\n",
              "      <td>0</td>\n",
              "      <td>0</td>\n",
              "      <td>0</td>\n",
              "      <td>0</td>\n",
              "      <td>1</td>\n",
              "      <td>1</td>\n",
              "      <td>1</td>\n",
              "      <td>0</td>\n",
              "      <td>0</td>\n",
              "      <td>0</td>\n",
              "      <td>0</td>\n",
              "      <td>0</td>\n",
              "      <td>0</td>\n",
              "      <td>0</td>\n",
              "      <td>0</td>\n",
              "      <td>0</td>\n",
              "      <td>0</td>\n",
              "      <td>0</td>\n",
              "      <td>0</td>\n",
              "      <td>0</td>\n",
              "      <td>0</td>\n",
              "      <td>0</td>\n",
              "      <td>0</td>\n",
              "      <td>1</td>\n",
              "      <td>...</td>\n",
              "      <td>0</td>\n",
              "      <td>0</td>\n",
              "      <td>0</td>\n",
              "      <td>0</td>\n",
              "      <td>0</td>\n",
              "      <td>0</td>\n",
              "      <td>0</td>\n",
              "      <td>0</td>\n",
              "      <td>0</td>\n",
              "      <td>0</td>\n",
              "      <td>0</td>\n",
              "      <td>0</td>\n",
              "      <td>0</td>\n",
              "      <td>0</td>\n",
              "      <td>0</td>\n",
              "      <td>0</td>\n",
              "      <td>0</td>\n",
              "      <td>0</td>\n",
              "      <td>0</td>\n",
              "      <td>0</td>\n",
              "      <td>0</td>\n",
              "      <td>0</td>\n",
              "      <td>0</td>\n",
              "      <td>0</td>\n",
              "      <td>0</td>\n",
              "      <td>0</td>\n",
              "      <td>0</td>\n",
              "      <td>0</td>\n",
              "      <td>0</td>\n",
              "      <td>0</td>\n",
              "      <td>0</td>\n",
              "      <td>0</td>\n",
              "      <td>0</td>\n",
              "      <td>0</td>\n",
              "      <td>0</td>\n",
              "      <td>0</td>\n",
              "      <td>0</td>\n",
              "      <td>0</td>\n",
              "      <td>0</td>\n",
              "      <td>0</td>\n",
              "    </tr>\n",
              "    <tr>\n",
              "      <th>1</th>\n",
              "      <td>0</td>\n",
              "      <td>0</td>\n",
              "      <td>0</td>\n",
              "      <td>1</td>\n",
              "      <td>0</td>\n",
              "      <td>0</td>\n",
              "      <td>0</td>\n",
              "      <td>0</td>\n",
              "      <td>0</td>\n",
              "      <td>0</td>\n",
              "      <td>0</td>\n",
              "      <td>1</td>\n",
              "      <td>0</td>\n",
              "      <td>1</td>\n",
              "      <td>0</td>\n",
              "      <td>0</td>\n",
              "      <td>0</td>\n",
              "      <td>0</td>\n",
              "      <td>1</td>\n",
              "      <td>0</td>\n",
              "      <td>1</td>\n",
              "      <td>0</td>\n",
              "      <td>0</td>\n",
              "      <td>0</td>\n",
              "      <td>0</td>\n",
              "      <td>0</td>\n",
              "      <td>0</td>\n",
              "      <td>0</td>\n",
              "      <td>0</td>\n",
              "      <td>0</td>\n",
              "      <td>0</td>\n",
              "      <td>0</td>\n",
              "      <td>0</td>\n",
              "      <td>0</td>\n",
              "      <td>0</td>\n",
              "      <td>0</td>\n",
              "      <td>0</td>\n",
              "      <td>0</td>\n",
              "      <td>0</td>\n",
              "      <td>1</td>\n",
              "      <td>...</td>\n",
              "      <td>0</td>\n",
              "      <td>0</td>\n",
              "      <td>0</td>\n",
              "      <td>0</td>\n",
              "      <td>0</td>\n",
              "      <td>0</td>\n",
              "      <td>0</td>\n",
              "      <td>0</td>\n",
              "      <td>0</td>\n",
              "      <td>0</td>\n",
              "      <td>0</td>\n",
              "      <td>0</td>\n",
              "      <td>0</td>\n",
              "      <td>0</td>\n",
              "      <td>0</td>\n",
              "      <td>0</td>\n",
              "      <td>0</td>\n",
              "      <td>0</td>\n",
              "      <td>0</td>\n",
              "      <td>0</td>\n",
              "      <td>0</td>\n",
              "      <td>0</td>\n",
              "      <td>0</td>\n",
              "      <td>0</td>\n",
              "      <td>0</td>\n",
              "      <td>0</td>\n",
              "      <td>0</td>\n",
              "      <td>0</td>\n",
              "      <td>0</td>\n",
              "      <td>0</td>\n",
              "      <td>0</td>\n",
              "      <td>0</td>\n",
              "      <td>0</td>\n",
              "      <td>0</td>\n",
              "      <td>0</td>\n",
              "      <td>0</td>\n",
              "      <td>0</td>\n",
              "      <td>0</td>\n",
              "      <td>0</td>\n",
              "      <td>0</td>\n",
              "    </tr>\n",
              "    <tr>\n",
              "      <th>2</th>\n",
              "      <td>0</td>\n",
              "      <td>0</td>\n",
              "      <td>0</td>\n",
              "      <td>0</td>\n",
              "      <td>0</td>\n",
              "      <td>0</td>\n",
              "      <td>0</td>\n",
              "      <td>1</td>\n",
              "      <td>0</td>\n",
              "      <td>0</td>\n",
              "      <td>0</td>\n",
              "      <td>1</td>\n",
              "      <td>0</td>\n",
              "      <td>1</td>\n",
              "      <td>0</td>\n",
              "      <td>0</td>\n",
              "      <td>0</td>\n",
              "      <td>0</td>\n",
              "      <td>0</td>\n",
              "      <td>0</td>\n",
              "      <td>0</td>\n",
              "      <td>1</td>\n",
              "      <td>1</td>\n",
              "      <td>0</td>\n",
              "      <td>0</td>\n",
              "      <td>1</td>\n",
              "      <td>1</td>\n",
              "      <td>0</td>\n",
              "      <td>0</td>\n",
              "      <td>0</td>\n",
              "      <td>0</td>\n",
              "      <td>0</td>\n",
              "      <td>0</td>\n",
              "      <td>0</td>\n",
              "      <td>0</td>\n",
              "      <td>0</td>\n",
              "      <td>0</td>\n",
              "      <td>0</td>\n",
              "      <td>0</td>\n",
              "      <td>1</td>\n",
              "      <td>...</td>\n",
              "      <td>0</td>\n",
              "      <td>0</td>\n",
              "      <td>0</td>\n",
              "      <td>0</td>\n",
              "      <td>0</td>\n",
              "      <td>0</td>\n",
              "      <td>0</td>\n",
              "      <td>0</td>\n",
              "      <td>0</td>\n",
              "      <td>0</td>\n",
              "      <td>0</td>\n",
              "      <td>0</td>\n",
              "      <td>0</td>\n",
              "      <td>0</td>\n",
              "      <td>0</td>\n",
              "      <td>0</td>\n",
              "      <td>0</td>\n",
              "      <td>0</td>\n",
              "      <td>0</td>\n",
              "      <td>0</td>\n",
              "      <td>0</td>\n",
              "      <td>0</td>\n",
              "      <td>0</td>\n",
              "      <td>0</td>\n",
              "      <td>0</td>\n",
              "      <td>0</td>\n",
              "      <td>0</td>\n",
              "      <td>0</td>\n",
              "      <td>0</td>\n",
              "      <td>0</td>\n",
              "      <td>0</td>\n",
              "      <td>0</td>\n",
              "      <td>0</td>\n",
              "      <td>0</td>\n",
              "      <td>0</td>\n",
              "      <td>0</td>\n",
              "      <td>0</td>\n",
              "      <td>0</td>\n",
              "      <td>0</td>\n",
              "      <td>0</td>\n",
              "    </tr>\n",
              "  </tbody>\n",
              "</table>\n",
              "<p>3 rows × 479 columns</p>\n",
              "</div>"
            ],
            "text/plain": [
              "    DVDs  ...  tags_category_tag_non_smoking_rooms_1\n",
              "0      0  ...                                      0\n",
              "1      0  ...                                      0\n",
              "2      0  ...                                      0\n",
              "\n",
              "[3 rows x 479 columns]"
            ]
          },
          "metadata": {
            "tags": []
          },
          "execution_count": 11
        }
      ]
    },
    {
      "cell_type": "code",
      "metadata": {
        "id": "NIXlw2zstbhY"
      },
      "source": [
        "labels = []\n",
        "for row in df.reviews:\n",
        "  parsed = json.loads(row.replace('\\'', '\\\"'))\n",
        "  denom = 0.0000001\n",
        "  for key in parsed.keys():\n",
        "    denom += parsed[key]\n",
        "  if len(parsed)> 2:\n",
        "    num = parsed['Excellent'] * 5 + parsed['Good'] * 4 + parsed['Average'] * 3 + parsed['Poor'] * 2 + parsed['Terrible'] * 1\n",
        "    labels.append(num/denom)\n",
        "  else: labels.append(np.nan)"
      ],
      "execution_count": 54,
      "outputs": []
    },
    {
      "cell_type": "code",
      "metadata": {
        "id": "Jx9sViKKtoYx"
      },
      "source": [
        "df['label'] = [1 if x > 4.1 else 0 for x in labels]"
      ],
      "execution_count": 55,
      "outputs": []
    },
    {
      "cell_type": "code",
      "metadata": {
        "colab": {
          "base_uri": "https://localhost:8080/",
          "height": 296
        },
        "id": "JRP-chWDtuQn",
        "outputId": "9f4aa406-7052-4500-b464-882a5c75bfe0"
      },
      "source": [
        "sns.countplot(y='label', hue='label', data=df,)"
      ],
      "execution_count": 56,
      "outputs": [
        {
          "output_type": "execute_result",
          "data": {
            "text/plain": [
              "<matplotlib.axes._subplots.AxesSubplot at 0x7f082c6c7c10>"
            ]
          },
          "metadata": {
            "tags": []
          },
          "execution_count": 56
        },
        {
          "output_type": "display_data",
          "data": {
            "image/png": "[encoded data removed]",
            "text/plain": [
              "<Figure size 432x288 with 1 Axes>"
            ]
          },
          "metadata": {
            "tags": [],
            "needs_background": "light"
          }
        }
      ]
    },
    {
      "cell_type": "markdown",
      "metadata": {
        "id": "hkMtOoODPfS9"
      },
      "source": [
        "## 1.2. Splitting the data into train and test and do feature selection"
      ]
    },
    {
      "cell_type": "code",
      "metadata": {
        "id": "6N7p41PDtwUF"
      },
      "source": [
        "X_train, X_test, y_train, y_test = train_test_split(oh_df, df.label, random_state=0)"
      ],
      "execution_count": 64,
      "outputs": []
    },
    {
      "cell_type": "code",
      "metadata": {
        "colab": {
          "base_uri": "https://localhost:8080/"
        },
        "id": "44Q4fBuuu7JR",
        "outputId": "7e58523a-af07-4331-93e2-a735c0265ac7"
      },
      "source": [
        "select = SelectFromModel(\n",
        "    RandomForestClassifier(n_estimators=100, random_state=42),\n",
        "    threshold=\"mean\")\n",
        "\n",
        "select.fit(X_train, y_train)\n",
        "\n",
        "X_train_new = select.transform(X_train)\n",
        "\n",
        "print(\"X_train.shape: {}\".format(X_train.shape))\n",
        "print(\"X_train_new.shape: {}\".format(X_train_new.shape))\n",
        "\n",
        "X_test_new = select.transform(X_test)"
      ],
      "execution_count": 65,
      "outputs": [
        {
          "output_type": "stream",
          "text": [
            "X_train.shape: (47039, 480)\n",
            "X_train_new.shape: (47039, 117)\n"
          ],
          "name": "stdout"
        }
      ]
    },
    {
      "cell_type": "markdown",
      "metadata": {
        "id": "ZPVkEAz-PNsb"
      },
      "source": [
        "## 1.3. visualize the new data vectors in 2D space using PCA & TNSE"
      ]
    },
    {
      "cell_type": "code",
      "metadata": {
        "colab": {
          "base_uri": "https://localhost:8080/",
          "height": 282
        },
        "id": "tL4TYRbREZQr",
        "outputId": "8f0008a9-ffd6-4400-fd1b-89fede5246ca"
      },
      "source": [
        "from sklearn.decomposition import PCA\n",
        "pca = PCA(n_components=2)\n",
        "pca.fit(X_train_new)\n",
        "new_data = pca.transform(X_train_new)\n",
        "plt.scatter(new_data[:, 0][:200], new_data[:, 1][:200], alpha=0.6, c=df.label[:200])"
      ],
      "execution_count": 27,
      "outputs": [
        {
          "output_type": "execute_result",
          "data": {
            "text/plain": [
              "<matplotlib.collections.PathCollection at 0x7f08296b77d0>"
            ]
          },
          "metadata": {
            "tags": []
          },
          "execution_count": 27
        },
        {
          "output_type": "display_data",
          "data": {
            "image/png": "[encoded data removed]",
            "text/plain": [
              "<Figure size 432x288 with 1 Axes>"
            ]
          },
          "metadata": {
            "tags": [],
            "needs_background": "light"
          }
        }
      ]
    },
    {
      "cell_type": "code",
      "metadata": {
        "colab": {
          "base_uri": "https://localhost:8080/",
          "height": 282
        },
        "id": "pCXsZloNFXLA",
        "outputId": "ea9fa6ec-90fa-44b5-b615-ca5820e26f18"
      },
      "source": [
        "from sklearn.manifold import TSNE\n",
        "tsne = TSNE().fit_transform(X_train_new[:200])\n",
        "plt.scatter(tsne[:,0],tsne[:,1],alpha=0.6, c=df.label[:200])"
      ],
      "execution_count": 26,
      "outputs": [
        {
          "output_type": "execute_result",
          "data": {
            "text/plain": [
              "<matplotlib.collections.PathCollection at 0x7f083027d5d0>"
            ]
          },
          "metadata": {
            "tags": []
          },
          "execution_count": 26
        },
        {
          "output_type": "display_data",
          "data": {
            "image/png": "[encoded data removed]",
            "text/plain": [
              "<Figure size 432x288 with 1 Axes>"
            ]
          },
          "metadata": {
            "tags": [],
            "needs_background": "light"
          }
        }
      ]
    },
    {
      "cell_type": "markdown",
      "metadata": {
        "id": "zMGTi5s8Okhn"
      },
      "source": [
        "# 2. Classification on binary-classes\n",
        "  - **1** represents the good hotels.\n",
        "  - **0** represents the bad hotels."
      ]
    },
    {
      "cell_type": "code",
      "metadata": {
        "id": "f1j0iDKov86l"
      },
      "source": [
        "def train_and_test(model, X_train, X_test, y_train, y_test):\n",
        "  model.fit(X_train, y_train)\n",
        "  y_pred = model.predict(X_test)\n",
        "  \n",
        "  print(classification_report(y_test, y_pred))\n",
        "\n",
        "  mat = confusion_matrix(y_test,y_pred)\n",
        "\n",
        "  sns.heatmap(mat.T, square=True, annot=True, fmt='d', cbar=False,\n",
        "              xticklabels=df.label.unique(), yticklabels=df.label.unique())\n",
        "  plt.xlabel('true label')\n",
        "  plt.ylabel('predicted label')"
      ],
      "execution_count": 17,
      "outputs": []
    },
    {
      "cell_type": "markdown",
      "metadata": {
        "id": "naW4CJC9QXs_"
      },
      "source": [
        "## 2.1. Grid Search to find the best SVM Estimator"
      ]
    },
    {
      "cell_type": "code",
      "metadata": {
        "id": "byv0pFmjvbSj"
      },
      "source": [
        "from sklearn.model_selection import GridSearchCV\n",
        "\n",
        "param_grid= {'kernel': ('linear', 'rbf','poly'),'C': [1, 10, 100]}\n",
        "base_estimator = SVC(gamma='scale')\n",
        "grid = GridSearchCV(base_estimator, param_grid, cv=3, scoring = 'roc_auc')"
      ],
      "execution_count": 16,
      "outputs": []
    },
    {
      "cell_type": "code",
      "metadata": {
        "colab": {
          "base_uri": "https://localhost:8080/"
        },
        "id": "NRDJRNfBzS8F",
        "outputId": "cf0d066a-2773-402c-ec06-1d864ef08a53"
      },
      "source": [
        "n_samples = 12000\n",
        "grid.fit(X_train_new[:n_samples], y_train[:n_samples])"
      ],
      "execution_count": 17,
      "outputs": [
        {
          "output_type": "execute_result",
          "data": {
            "text/plain": [
              "GridSearchCV(cv=3, error_score=nan,\n",
              "             estimator=SVC(C=1.0, break_ties=False, cache_size=200,\n",
              "                           class_weight=None, coef0=0.0,\n",
              "                           decision_function_shape='ovr', degree=3,\n",
              "                           gamma='scale', kernel='rbf', max_iter=-1,\n",
              "                           probability=False, random_state=None, shrinking=True,\n",
              "                           tol=0.001, verbose=False),\n",
              "             iid='deprecated', n_jobs=None,\n",
              "             param_grid={'C': [1, 10, 100],\n",
              "                         'kernel': ('linear', 'rbf', 'poly')},\n",
              "             pre_dispatch='2*n_jobs', refit=True, return_train_score=False,\n",
              "             scoring='roc_auc', verbose=0)"
            ]
          },
          "metadata": {
            "tags": []
          },
          "execution_count": 17
        }
      ]
    },
    {
      "cell_type": "code",
      "metadata": {
        "colab": {
          "base_uri": "https://localhost:8080/"
        },
        "id": "wQZdEX2UzZiq",
        "outputId": "5d1e0b24-1b2e-4369-ef22-75cefe831fbe"
      },
      "source": [
        "grid.best_params_"
      ],
      "execution_count": 18,
      "outputs": [
        {
          "output_type": "execute_result",
          "data": {
            "text/plain": [
              "{'C': 1, 'kernel': 'rbf'}"
            ]
          },
          "metadata": {
            "tags": []
          },
          "execution_count": 18
        }
      ]
    },
    {
      "cell_type": "code",
      "metadata": {
        "id": "agd8Y40szcXN"
      },
      "source": [
        "model = grid.best_estimator_"
      ],
      "execution_count": 19,
      "outputs": []
    },
    {
      "cell_type": "code",
      "metadata": {
        "colab": {
          "base_uri": "https://localhost:8080/",
          "height": 438
        },
        "id": "mTAkcLuxzfa1",
        "outputId": "df2b3a89-bfb9-46b1-cc66-1db49d8b71cf"
      },
      "source": [
        "n_training_samples = 15000\n",
        "n_testing_samples = 10000\n",
        "train_and_test(model, X_train_new[:n_training_samples], X_test_new[:n_testing_samples], y_train[:n_training_samples], y_test[:n_testing_samples])"
      ],
      "execution_count": 21,
      "outputs": [
        {
          "output_type": "stream",
          "text": [
            "              precision    recall  f1-score   support\n",
            "\n",
            "           0       0.71      0.65      0.68      4448\n",
            "           1       0.74      0.79      0.76      5552\n",
            "\n",
            "    accuracy                           0.73     10000\n",
            "   macro avg       0.73      0.72      0.72     10000\n",
            "weighted avg       0.73      0.73      0.73     10000\n",
            "\n"
          ],
          "name": "stdout"
        },
        {
          "output_type": "display_data",
          "data": {
            "image/png": "[encoded data removed]",
            "text/plain": [
              "<Figure size 432x288 with 1 Axes>"
            ]
          },
          "metadata": {
            "tags": [],
            "needs_background": "light"
          }
        }
      ]
    },
    {
      "cell_type": "markdown",
      "metadata": {
        "id": "HoLJFWswQl5w"
      },
      "source": [
        "## 2.2. Grid Search to find the best Decision-Tree Classifier "
      ]
    },
    {
      "cell_type": "code",
      "metadata": {
        "id": "rCc4rt7_0FKx"
      },
      "source": [
        "from sklearn.tree import DecisionTreeClassifier\n",
        "tree_param = {'criterion':['gini','entropy'],'max_depth':np.arange(2,10)}\n",
        "grid = GridSearchCV(DecisionTreeClassifier(), tree_param, cv=5)"
      ],
      "execution_count": 34,
      "outputs": []
    },
    {
      "cell_type": "code",
      "metadata": {
        "colab": {
          "base_uri": "https://localhost:8080/"
        },
        "id": "-bGKcKGI3JoX",
        "outputId": "1b7babcd-8aa4-45a2-8f49-a2b050d46f0f"
      },
      "source": [
        "n_samples = 30000\n",
        "grid.fit(X_train_new[:n_samples], y_train[:n_samples])"
      ],
      "execution_count": 35,
      "outputs": [
        {
          "output_type": "execute_result",
          "data": {
            "text/plain": [
              "GridSearchCV(cv=5, error_score=nan,\n",
              "             estimator=DecisionTreeClassifier(ccp_alpha=0.0, class_weight=None,\n",
              "                                              criterion='gini', max_depth=None,\n",
              "                                              max_features=None,\n",
              "                                              max_leaf_nodes=None,\n",
              "                                              min_impurity_decrease=0.0,\n",
              "                                              min_impurity_split=None,\n",
              "                                              min_samples_leaf=1,\n",
              "                                              min_samples_split=2,\n",
              "                                              min_weight_fraction_leaf=0.0,\n",
              "                                              presort='deprecated',\n",
              "                                              random_state=None,\n",
              "                                              splitter='best'),\n",
              "             iid='deprecated', n_jobs=None,\n",
              "             param_grid={'criterion': ['gini', 'entropy'],\n",
              "                         'max_depth': array([2, 3, 4, 5, 6, 7, 8, 9])},\n",
              "             pre_dispatch='2*n_jobs', refit=True, return_train_score=False,\n",
              "             scoring=None, verbose=0)"
            ]
          },
          "metadata": {
            "tags": []
          },
          "execution_count": 35
        }
      ]
    },
    {
      "cell_type": "code",
      "metadata": {
        "colab": {
          "base_uri": "https://localhost:8080/"
        },
        "id": "Sa4e21JO_LsU",
        "outputId": "91e68056-aa66-402e-f029-477cbc2a23d4"
      },
      "source": [
        "grid.best_params_"
      ],
      "execution_count": 36,
      "outputs": [
        {
          "output_type": "execute_result",
          "data": {
            "text/plain": [
              "{'criterion': 'gini', 'max_depth': 9}"
            ]
          },
          "metadata": {
            "tags": []
          },
          "execution_count": 36
        }
      ]
    },
    {
      "cell_type": "code",
      "metadata": {
        "id": "9plKIEyY_P3J"
      },
      "source": [
        "model = grid.best_estimator_"
      ],
      "execution_count": 37,
      "outputs": []
    },
    {
      "cell_type": "code",
      "metadata": {
        "colab": {
          "base_uri": "https://localhost:8080/",
          "height": 438
        },
        "id": "sh7ItJo0_Sx7",
        "outputId": "e8339fde-1c43-4b39-c3d9-0e252a6c2c47"
      },
      "source": [
        "n_training_samples = 15000\n",
        "n_testing_samples = 10000\n",
        "train_and_test(model, X_train_new[:n_training_samples], X_test_new[:n_testing_samples], y_train[:n_training_samples], y_test[:n_testing_samples])"
      ],
      "execution_count": 38,
      "outputs": [
        {
          "output_type": "stream",
          "text": [
            "              precision    recall  f1-score   support\n",
            "\n",
            "           0       0.61      0.63      0.62      4448\n",
            "           1       0.69      0.68      0.69      5552\n",
            "\n",
            "    accuracy                           0.66     10000\n",
            "   macro avg       0.65      0.65      0.65     10000\n",
            "weighted avg       0.66      0.66      0.66     10000\n",
            "\n"
          ],
          "name": "stdout"
        },
        {
          "output_type": "display_data",
          "data": {
            "image/png": "[encoded data removed]",
            "text/plain": [
              "<Figure size 432x288 with 1 Axes>"
            ]
          },
          "metadata": {
            "tags": [],
            "needs_background": "light"
          }
        }
      ]
    },
    {
      "cell_type": "markdown",
      "metadata": {
        "id": "TdiCl8MWQxI3"
      },
      "source": [
        "## 2.3. Logistic-Regression Classifier "
      ]
    },
    {
      "cell_type": "code",
      "metadata": {
        "colab": {
          "base_uri": "https://localhost:8080/",
          "height": 438
        },
        "id": "5cK-e89F_VFu",
        "outputId": "a3e1ecdb-8519-4ff7-f386-90af8bca4750"
      },
      "source": [
        "from sklearn.linear_model import LogisticRegression\n",
        "train_and_test(LogisticRegression(), X_train_new, X_test_new, y_train, y_test)"
      ],
      "execution_count": 18,
      "outputs": [
        {
          "output_type": "stream",
          "text": [
            "              precision    recall  f1-score   support\n",
            "\n",
            "           0       0.69      0.63      0.66      7024\n",
            "           1       0.72      0.77      0.74      8656\n",
            "\n",
            "    accuracy                           0.71     15680\n",
            "   macro avg       0.70      0.70      0.70     15680\n",
            "weighted avg       0.71      0.71      0.71     15680\n",
            "\n"
          ],
          "name": "stdout"
        },
        {
          "output_type": "display_data",
          "data": {
            "image/png": "[encoded data removed]",
            "text/plain": [
              "<Figure size 432x288 with 1 Axes>"
            ]
          },
          "metadata": {
            "tags": [],
            "needs_background": "light"
          }
        }
      ]
    },
    {
      "cell_type": "markdown",
      "metadata": {
        "id": "7dVAyru5RBW4"
      },
      "source": [
        "## 2.4. Random-Forest Classifier\n",
        "\n"
      ]
    },
    {
      "cell_type": "code",
      "metadata": {
        "colab": {
          "base_uri": "https://localhost:8080/",
          "height": 438
        },
        "id": "m02goJNlBjYW",
        "outputId": "7f842eec-d7e1-43ff-f545-ae558e8ef6e6"
      },
      "source": [
        "from sklearn.ensemble import RandomForestClassifier\n",
        "\n",
        "model = RandomForestClassifier(n_estimators=500, max_leaf_nodes=16, n_jobs=-1, random_state=42)\n",
        "train_and_test(model, X_train_new, X_test_new, y_train, y_test)"
      ],
      "execution_count": 29,
      "outputs": [
        {
          "output_type": "stream",
          "text": [
            "              precision    recall  f1-score   support\n",
            "\n",
            "           0       0.75      0.42      0.54      7024\n",
            "           1       0.65      0.88      0.75      8656\n",
            "\n",
            "    accuracy                           0.68     15680\n",
            "   macro avg       0.70      0.65      0.64     15680\n",
            "weighted avg       0.69      0.68      0.66     15680\n",
            "\n"
          ],
          "name": "stdout"
        },
        {
          "output_type": "display_data",
          "data": {
            "image/png": "[encoded data removed]",
            "text/plain": [
              "<Figure size 432x288 with 1 Axes>"
            ]
          },
          "metadata": {
            "tags": [],
            "needs_background": "light"
          }
        }
      ]
    },
    {
      "cell_type": "markdown",
      "metadata": {
        "id": "xaCBg338RF3D"
      },
      "source": [
        "## 2.5. K-Neighbors Classifier\n",
        "\n"
      ]
    },
    {
      "cell_type": "code",
      "metadata": {
        "colab": {
          "base_uri": "https://localhost:8080/",
          "height": 438
        },
        "id": "1gxiijuUDNwZ",
        "outputId": "4ce33d6d-6428-4297-86d9-080eb171408a"
      },
      "source": [
        "from sklearn.neighbors import KNeighborsClassifier\n",
        "train_and_test(KNeighborsClassifier(), X_train_new, X_test_new, y_train, y_test)"
      ],
      "execution_count": 39,
      "outputs": [
        {
          "output_type": "stream",
          "text": [
            "              precision    recall  f1-score   support\n",
            "\n",
            "           0       0.65      0.62      0.64      7024\n",
            "           1       0.70      0.73      0.72      8656\n",
            "\n",
            "    accuracy                           0.68     15680\n",
            "   macro avg       0.68      0.68      0.68     15680\n",
            "weighted avg       0.68      0.68      0.68     15680\n",
            "\n"
          ],
          "name": "stdout"
        },
        {
          "output_type": "display_data",
          "data": {
            "image/png": "[encoded data removed]",
            "text/plain": [
              "<Figure size 432x288 with 1 Axes>"
            ]
          },
          "metadata": {
            "tags": [],
            "needs_background": "light"
          }
        }
      ]
    },
    {
      "cell_type": "markdown",
      "metadata": {
        "id": "Y0zVQpxzOZ3O"
      },
      "source": [
        "# 3. Classification on Multi-class"
      ]
    },
    {
      "cell_type": "code",
      "metadata": {
        "id": "aijtA2AqK5GA"
      },
      "source": [
        "bins = np.linspace(1, 5, 5)\n",
        "which_bin = np.digitize(labels, bins=bins)"
      ],
      "execution_count": 60,
      "outputs": []
    },
    {
      "cell_type": "code",
      "metadata": {
        "colab": {
          "base_uri": "https://localhost:8080/"
        },
        "id": "xmKVKIi9L-zF",
        "outputId": "c018f0eb-49f9-46f7-d8bf-cf31df971918"
      },
      "source": [
        "which_bin[:10]"
      ],
      "execution_count": 61,
      "outputs": [
        {
          "output_type": "execute_result",
          "data": {
            "text/plain": [
              "array([3, 4, 3, 4, 4, 3, 4, 4, 4, 4])"
            ]
          },
          "metadata": {
            "tags": []
          },
          "execution_count": 61
        }
      ]
    },
    {
      "cell_type": "code",
      "metadata": {
        "id": "HloqjWzzMH-r"
      },
      "source": [
        "df.label = which_bin"
      ],
      "execution_count": 62,
      "outputs": []
    },
    {
      "cell_type": "code",
      "metadata": {
        "colab": {
          "base_uri": "https://localhost:8080/",
          "height": 296
        },
        "id": "qQAPKuhcMMP6",
        "outputId": "50d5932e-bcf3-4bd1-adbd-e391fa31ee07"
      },
      "source": [
        "sns.countplot(y='label', hue='label', data=df,)"
      ],
      "execution_count": 63,
      "outputs": [
        {
          "output_type": "execute_result",
          "data": {
            "text/plain": [
              "<matplotlib.axes._subplots.AxesSubplot at 0x7f082c63aa90>"
            ]
          },
          "metadata": {
            "tags": []
          },
          "execution_count": 63
        },
        {
          "output_type": "display_data",
          "data": {
            "image/png": "[encoded data removed]",
            "text/plain": [
              "<Figure size 432x288 with 1 Axes>"
            ]
          },
          "metadata": {
            "tags": [],
            "needs_background": "light"
          }
        }
      ]
    },
    {
      "cell_type": "code",
      "metadata": {
        "colab": {
          "base_uri": "https://localhost:8080/",
          "height": 510
        },
        "id": "xxB8pOBsMOpr",
        "outputId": "97a280a0-ffa7-4116-e16d-eee7c0d4f292"
      },
      "source": [
        "train_and_test(LogisticRegression(), X_train_new, X_test_new, y_train, y_test)"
      ],
      "execution_count": 67,
      "outputs": [
        {
          "output_type": "stream",
          "text": [
            "              precision    recall  f1-score   support\n",
            "\n",
            "           0       0.67      0.10      0.17        20\n",
            "           1       0.28      0.06      0.10        87\n",
            "           2       0.56      0.38      0.45       701\n",
            "           3       0.76      0.68      0.72      4983\n",
            "           4       0.85      0.94      0.90      9611\n",
            "           5       0.26      0.03      0.05       278\n",
            "\n",
            "    accuracy                           0.81     15680\n",
            "   macro avg       0.56      0.37      0.40     15680\n",
            "weighted avg       0.79      0.81      0.80     15680\n",
            "\n"
          ],
          "name": "stdout"
        },
        {
          "output_type": "display_data",
          "data": {
            "image/png": "[encoded data removed]",
            "text/plain": [
              "<Figure size 432x288 with 1 Axes>"
            ]
          },
          "metadata": {
            "tags": [],
            "needs_background": "light"
          }
        }
      ]
    },
    {
      "cell_type": "code",
      "metadata": {
        "colab": {
          "base_uri": "https://localhost:8080/",
          "height": 510
        },
        "id": "on0_RRv1MfsQ",
        "outputId": "705bcc88-41ad-428b-91de-77dcf924b1fb"
      },
      "source": [
        "from sklearn.tree import DecisionTreeClassifier\n",
        "train_and_test(DecisionTreeClassifier(), X_train_new, X_test_new, y_train, y_test)"
      ],
      "execution_count": 68,
      "outputs": [
        {
          "output_type": "stream",
          "text": [
            "              precision    recall  f1-score   support\n",
            "\n",
            "           0       0.53      0.40      0.46        20\n",
            "           1       0.66      0.63      0.65        87\n",
            "           2       0.59      0.62      0.61       701\n",
            "           3       0.71      0.70      0.71      4983\n",
            "           4       0.88      0.88      0.88      9611\n",
            "           5       0.14      0.18      0.15       278\n",
            "\n",
            "    accuracy                           0.79     15680\n",
            "   macro avg       0.59      0.57      0.58     15680\n",
            "weighted avg       0.80      0.79      0.80     15680\n",
            "\n"
          ],
          "name": "stdout"
        },
        {
          "output_type": "display_data",
          "data": {
            "image/png": "[encoded data removed]",
            "text/plain": [
              "<Figure size 432x288 with 1 Axes>"
            ]
          },
          "metadata": {
            "tags": [],
            "needs_background": "light"
          }
        }
      ]
    },
    {
      "cell_type": "code",
      "metadata": {
        "id": "_d3NoNrFN1L6"
      },
      "source": [
        ""
      ],
      "execution_count": null,
      "outputs": []
    }
  ]
}